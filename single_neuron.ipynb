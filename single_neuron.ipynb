{
 "cells": [
  {
   "cell_type": "markdown",
   "metadata": {},
   "source": [
    "# Entrenamiento de una Neurona"
   ]
  },
  {
   "cell_type": "code",
   "execution_count": 1,
   "metadata": {},
   "outputs": [],
   "source": [
    "# Importar librerias\n",
    "import numpy as np\n",
    "from numpy import exp, array, random, dot, tanh \n",
    "import matplotlib.pyplot as plt\n"
   ]
  },
  {
   "cell_type": "code",
   "execution_count": 2,
   "metadata": {},
   "outputs": [],
   "source": [
    "# Clase para crear la red neuronal\n",
    "# De una sola neurona\n",
    "class NeuralNetwork(): \n",
    "      \n",
    "    def __init__(self): \n",
    "          \n",
    "        # Utilizar seed para \n",
    "        # configurar los mismos valores siempre\n",
    "        random.seed(1) \n",
    "        self.records = np.arange(1)\n",
    "        # Definir matriz de pesos \n",
    "        self.weight_matrix = 2 * random.random((3, 1)) - 1\n",
    "  \n",
    "    # Funcion de activación\n",
    "    def tanh(self, x): \n",
    "        return tanh(x) \n",
    "  \n",
    "    # Derivada de la funcion de activación\n",
    "    # Para calcular gradientes.\n",
    "    def tanh_derivative(self, x): \n",
    "        return 1.0 - tanh(x) ** 2\n",
    "  \n",
    "    # Propagacion hacia adelante\n",
    "    # Aqui se ingresan los datos \n",
    "    # y se obtienen las predicciones\n",
    "    def forward_propagation(self, inputs): \n",
    "        return self.tanh(dot(inputs, self.weight_matrix)) \n",
    "      \n",
    "    # Definicion del entrenamiento. \n",
    "    def train(self, train_inputs, train_outputs, \n",
    "                            num_train_iterations): \n",
    "                                  \n",
    "        # Numero de veces que queremos \n",
    "        # realizar el proceso de entrenamiento. \n",
    "        for iteration in range(num_train_iterations): \n",
    "            output = self.forward_propagation(train_inputs) \n",
    "  \n",
    "            # Calcular el error en la salida.\n",
    "            error = train_outputs - output \n",
    "            self.records\n",
    "            # multiply the error by input and then  \n",
    "            # by gradient of tanh funtion to calculate \n",
    "            # the adjustment needs to be made in weights \n",
    "            adjustment = dot(train_inputs.T, error *\n",
    "                             self.tanh_derivative(output)) \n",
    "                               \n",
    "            # Adjust the weight matrix \n",
    "            self.weight_matrix += adjustment \n"
   ]
  },
  {
   "cell_type": "code",
   "execution_count": 3,
   "metadata": {},
   "outputs": [
    {
     "name": "stdout",
     "output_type": "stream",
     "text": [
      "Entradas:\n",
      "[[0 0 1]\n",
      " [1 1 1]\n",
      " [1 0 1]\n",
      " [0 1 1]]\n",
      "Salidas:\n",
      "[[0]\n",
      " [1]\n",
      " [1]\n",
      " [0]]\n"
     ]
    }
   ],
   "source": [
    "x = np.arange(0,4*np.pi,0.1)   # start,stop,step\n",
    "y = np.sin(x)\n",
    "\n",
    "train_inputs = array([[0, 0, 1], [1, 1, 1], [1, 0, 1], [0, 1, 1]]) \n",
    "train_outputs = array([[0, 1, 1, 0]]).T \n",
    "\n",
    "print('Entradas:')\n",
    "print(train_inputs)\n",
    "print('Salidas:')\n",
    "print(train_outputs)\n"
   ]
  },
  {
   "cell_type": "code",
   "execution_count": 4,
   "metadata": {},
   "outputs": [
    {
     "name": "stdout",
     "output_type": "stream",
     "text": [
      "Pesos antes del entrenamiento:\n",
      "[[-0.16595599]\n",
      " [ 0.44064899]\n",
      " [-0.99977125]]\n",
      "Red neuronal no entrenada:\n",
      "[-0.76149807]\n",
      "[-0.62004504]\n",
      "[-0.8228976]\n",
      "[-0.5073259]\n"
     ]
    }
   ],
   "source": [
    "neural_network = NeuralNetwork() \n",
    "print ('Pesos antes del entrenamiento:') \n",
    "print (neural_network.weight_matrix) \n",
    "print(\"Red neuronal no entrenada:\")\n",
    "print (neural_network.forward_propagation(array([0, 0, 1]))) \n",
    "print (neural_network.forward_propagation(array([1, 1, 1]))) \n",
    "print (neural_network.forward_propagation(array([1, 0, 1]))) \n",
    "print (neural_network.forward_propagation(array([0, 1, 1]))) \n"
   ]
  },
  {
   "cell_type": "code",
   "execution_count": 5,
   "metadata": {},
   "outputs": [
    {
     "name": "stdout",
     "output_type": "stream",
     "text": [
      "Pesos despues del entrenamiento:\n",
      "[[6.19852837]\n",
      " [0.1947659 ]\n",
      " [0.34311074]]\n",
      "Red neuronal entrenada:\n",
      "[0.3302517]\n",
      "[0.99999718]\n",
      "[0.99999584]\n",
      "[0.49137898]\n"
     ]
    }
   ],
   "source": [
    "neural_network.train(train_inputs, train_outputs, 50000) \n",
    "\n",
    "print ('Pesos despues del entrenamiento:') \n",
    "print (neural_network.weight_matrix) \n",
    "\n",
    "print(\"Red neuronal entrenada:\")\n",
    "print (neural_network.forward_propagation(array([0, 0, 1]))) \n",
    "print (neural_network.forward_propagation(array([1, 1, 1]))) \n",
    "print (neural_network.forward_propagation(array([1, 0, 1]))) \n",
    "print (neural_network.forward_propagation(array([0, 1, 1]))) \n"
   ]
  }
 ],
 "metadata": {
  "kernelspec": {
   "display_name": "Python 3",
   "language": "python",
   "name": "python3"
  },
  "language_info": {
   "codemirror_mode": {
    "name": "ipython",
    "version": 3
   },
   "file_extension": ".py",
   "mimetype": "text/x-python",
   "name": "python",
   "nbconvert_exporter": "python",
   "pygments_lexer": "ipython3",
   "version": "3.6.8"
  }
 },
 "nbformat": 4,
 "nbformat_minor": 2
}